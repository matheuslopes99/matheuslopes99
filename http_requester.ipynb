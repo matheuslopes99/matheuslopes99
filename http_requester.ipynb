{
  "nbformat": 4,
  "nbformat_minor": 0,
  "metadata": {
    "colab": {
      "provenance": [],
      "mount_file_id": "1W2WunsTbZ983yZsNHfqAgfjww8ysRGK6",
      "authorship_tag": "ABX9TyOoig4Ib23BHQ4G9UpUxd7a",
      "include_colab_link": true
    },
    "kernelspec": {
      "name": "python3",
      "display_name": "Python 3"
    },
    "language_info": {
      "name": "python"
    }
  },
  "cells": [
    {
      "cell_type": "markdown",
      "metadata": {
        "id": "view-in-github",
        "colab_type": "text"
      },
      "source": [
        "<a href=\"https://colab.research.google.com/github/matheuslopes99/matheuslopes99/blob/main/http_requester.ipynb\" target=\"_parent\"><img src=\"https://colab.research.google.com/assets/colab-badge.svg\" alt=\"Open In Colab\"/></a>"
      ]
    },
    {
      "cell_type": "markdown",
      "source": [
        "**Http Requester Builder**"
      ],
      "metadata": {
        "id": "nomvYAW4fsCv"
      }
    },
    {
      "cell_type": "code",
      "source": [
        "from typing import Dict\n",
        "import requests\n",
        "import pytest"
      ],
      "metadata": {
        "id": "PJEWtl8Nib1g"
      },
      "execution_count": 13,
      "outputs": []
    },
    {
      "cell_type": "code",
      "source": [
        "class HttpRequester:\n",
        "  def __init__(self) -> None:\n",
        "    self.__url = 'https://web.archive.org/web/20161025170331/http://www.nga.gov/collection/anA1.htm'\n",
        "  def request_from_page(self):\n",
        "    response = requests.get(self.__url)\n",
        "    return {\n",
        "        \"status_code\" : response.status_code, \"html\" : response.text\n",
        "    }"
      ],
      "metadata": {
        "id": "H5GdRnHDhfJe"
      },
      "execution_count": 8,
      "outputs": []
    },
    {
      "cell_type": "code",
      "source": [
        "# def test_request_from_page(requests_mock):\n",
        "#   url = 'https://web.archive.org/web/20161025170331/http://www.nga.gov/collection/anA1.htm'\n",
        "#   response_context = '<h1>OlaMundo</h1>'\n",
        "#   requests_mock.get(url, status_code=200, text=response_context)\n",
        "\n",
        "#   http_requester = HttpRequester()\n",
        "#   request_response = http_requester.request_from_page()\n",
        "\n",
        "#   assert 'status_code' in request_response\n",
        "#   assert 'html' in request_response\n",
        "#   assert request_response[\"status_code\"] == 200\n",
        "#   assert request_response[\"html\"] == response_context\n"
      ],
      "metadata": {
        "id": "74zdbbNkjPnN"
      },
      "execution_count": 12,
      "outputs": []
    },
    {
      "cell_type": "code",
      "source": [],
      "metadata": {
        "colab": {
          "base_uri": "https://localhost:8080/",
          "height": 130
        },
        "id": "s6hOEz1to-RD",
        "outputId": "b4c18d94-7dd0-4701-d248-cd71205e766a"
      },
      "execution_count": 17,
      "outputs": [
        {
          "output_type": "error",
          "ename": "SyntaxError",
          "evalue": "ignored",
          "traceback": [
            "\u001b[0;36m  File \u001b[0;32m\"<ipython-input-17-92599017f234>\"\u001b[0;36m, line \u001b[0;32m1\u001b[0m\n\u001b[0;31m    pytest http_requester_test.py\u001b[0m\n\u001b[0m           ^\u001b[0m\n\u001b[0;31mSyntaxError\u001b[0m\u001b[0;31m:\u001b[0m invalid syntax\n"
          ]
        }
      ]
    }
  ]
}