{
  "nbformat": 4,
  "nbformat_minor": 0,
  "metadata": {
    "colab": {
      "provenance": [],
      "authorship_tag": "ABX9TyO1XSoxCUyctKAxjZA+0wu4",
      "include_colab_link": true
    },
    "kernelspec": {
      "name": "python3",
      "display_name": "Python 3"
    },
    "language_info": {
      "name": "python"
    }
  },
  "cells": [
    {
      "cell_type": "markdown",
      "metadata": {
        "id": "view-in-github",
        "colab_type": "text"
      },
      "source": [
        "<a href=\"https://colab.research.google.com/github/matheuslopes99/matheuslopes99/blob/main/Pytorch_aprendizado.ipynb\" target=\"_parent\"><img src=\"https://colab.research.google.com/assets/colab-badge.svg\" alt=\"Open In Colab\"/></a>"
      ]
    },
    {
      "cell_type": "markdown",
      "source": [
        "**Bibliotecas**"
      ],
      "metadata": {
        "id": "NMvxYAwnHEwt"
      }
    },
    {
      "cell_type": "code",
      "execution_count": 1,
      "metadata": {
        "id": "ZA_ZkMhGG1Tv"
      },
      "outputs": [],
      "source": [
        "import torch\n",
        "import numpy as np\n",
        "from torch import nn"
      ]
    },
    {
      "cell_type": "markdown",
      "source": [
        "**Criando rede neural**"
      ],
      "metadata": {
        "id": "kMzRg1NyIdRJ"
      }
    },
    {
      "cell_type": "code",
      "source": [
        "class LineNetwork(nn.Module):\n",
        "  #inicialização\n",
        "  def __init__(self):\n",
        "    super().__init__()\n",
        "    self.layers = nn.Sequential(\n",
        "        nn.Linear(1, 1)\n",
        "    )\n",
        "  #Como a rede computa\n",
        "  def forward(self, x):\n",
        "    return self.layers(x)"
      ],
      "metadata": {
        "id": "FRHzHCSRHiRK"
      },
      "execution_count": 2,
      "outputs": []
    },
    {
      "cell_type": "code",
      "source": [
        "from torch.utils.data import Dataset, DataLoader\n",
        "import torch.distributions.uniform as urand"
      ],
      "metadata": {
        "id": "trk-s3sYKMB5"
      },
      "execution_count": 3,
      "outputs": []
    },
    {
      "cell_type": "code",
      "source": [
        "class AlgebraicDataset(Dataset):\n",
        "  def __init__(self, f, interval, nsamples):\n",
        "    X = urand.Uniform(interval[0], interval[1]).sample([nsamples])\n",
        "    self.data = [(x, f(x)) for x in X]\n",
        "\n",
        "  def __len__(self):\n",
        "    return len(self.data)\n",
        "\n",
        "  def __getitem__(self, idx):\n",
        "    return self.data[idx]"
      ],
      "metadata": {
        "id": "shgFIO4pKTLL"
      },
      "execution_count": 7,
      "outputs": []
    },
    {
      "cell_type": "code",
      "source": [
        "line = lambda x: 2*x+3\n",
        "interval = (-10, 10)\n",
        "train_nsamples = 1000\n",
        "test_nsamples = 100"
      ],
      "metadata": {
        "id": "KX-tOeMSMpDF"
      },
      "execution_count": 8,
      "outputs": []
    },
    {
      "cell_type": "code",
      "source": [
        "train_data = AlgebraicDataset(line, interval, train_nsamples)\n",
        "test_data = AlgebraicDataset(line, interval, test_nsamples)\n",
        "train_dataloader = DataLoader(train_data, batch_size=train_nsamples ,shuffle=True)\n",
        "test_dataloader = DataLoader(test_data, batch_size=test_nsamples ,shuffle=True)"
      ],
      "metadata": {
        "id": "_zZXnNdrMf4n"
      },
      "execution_count": 10,
      "outputs": []
    }
  ]
}