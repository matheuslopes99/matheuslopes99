{
  "nbformat": 4,
  "nbformat_minor": 0,
  "metadata": {
    "colab": {
      "provenance": [],
      "mount_file_id": "1f69M7_TL2K2HRISwhITJyF_x_xe5Qb9y",
      "authorship_tag": "ABX9TyMCYhMA59wemeZSMpIe7X+U",
      "include_colab_link": true
    },
    "kernelspec": {
      "name": "python3",
      "display_name": "Python 3"
    },
    "language_info": {
      "name": "python"
    },
    "accelerator": "GPU",
    "gpuClass": "standard"
  },
  "cells": [
    {
      "cell_type": "markdown",
      "metadata": {
        "id": "view-in-github",
        "colab_type": "text"
      },
      "source": [
        "<a href=\"https://colab.research.google.com/github/matheuslopes99/matheuslopes99/blob/main/Pytorch_Convolutional.ipynb\" target=\"_parent\"><img src=\"https://colab.research.google.com/assets/colab-badge.svg\" alt=\"Open In Colab\"/></a>"
      ]
    },
    {
      "cell_type": "code",
      "execution_count": 2,
      "metadata": {
        "id": "ckksYcuTknce"
      },
      "outputs": [],
      "source": [
        "import torch\n",
        "import matplotlib.pyplot as plt\n",
        "import os\n",
        "\n",
        "from torchvision.datasets import CIFAR10"
      ]
    },
    {
      "cell_type": "code",
      "source": [
        "DATA_DIR = '/content/drive/MyDrive/Colab Notebooks/content_cifa10'\n",
        "CATEGORIES = ['airplane', 'automobile', 'bird', 'cat', 'deer', 'dog', 'frog', 'horse', 'ship', 'truck']"
      ],
      "metadata": {
        "id": "OgKU-Q-B6zlK"
      },
      "execution_count": 3,
      "outputs": []
    },
    {
      "cell_type": "code",
      "source": [
        "cifar10_train = CIFAR10(DATA_DIR, train=True, download=True)\n",
        "cifar10_test = CIFAR10(DATA_DIR, train=False, download=True)"
      ],
      "metadata": {
        "colab": {
          "base_uri": "https://localhost:8080/"
        },
        "id": "4odUz5Sl6NDR",
        "outputId": "60555034-c45b-45cf-d67d-5b0233d1d863"
      },
      "execution_count": 4,
      "outputs": [
        {
          "output_type": "stream",
          "name": "stdout",
          "text": [
            "Files already downloaded and verified\n",
            "Files already downloaded and verified\n"
          ]
        }
      ]
    },
    {
      "cell_type": "code",
      "source": [
        "def lookat_dataset(dataset, istensor=False):\n",
        "  figure = plt.figure(figsize=(8, 8))\n",
        "  rows, cols = 2, 2\n",
        "  for i in range(1, 5):\n",
        "    sample_idx = torch.randint(len(dataset), size=(1,)).item()\n",
        "    img, label = dataset[sample_idx]\n",
        "    figure.add_subplot(rows, cols, i)\n",
        "    plt.title(CATEGORIES[label])\n",
        "    plt.axis(\"off\")\n",
        "    if istensor:\n",
        "      plt.imshow(img.squeeze().permute(1,2,0))\n",
        "    else:\n",
        "      plt.imshow(img)\n",
        "  plt.show()"
      ],
      "metadata": {
        "id": "t76XRiuC7JEN"
      },
      "execution_count": 5,
      "outputs": []
    },
    {
      "cell_type": "code",
      "source": [
        "lookat_dataset(cifar10_train)"
      ],
      "metadata": {
        "colab": {
          "base_uri": "https://localhost:8080/",
          "height": 482
        },
        "id": "Jxwn3ipx9J_g",
        "outputId": "5d01adfc-b084-47e6-8385-ef38cd2fcc33"
      },
      "execution_count": 6,
      "outputs": [
        {
          "output_type": "display_data",
          "data": {
            "text/plain": [
              "<Figure size 576x576 with 4 Axes>"
            ],
            "image/png": "[encoded data removed]"
          },
          "metadata": {
            "needs_background": "light"
          }
        }
      ]
    },
    {
      "cell_type": "markdown",
      "source": [
        "**Pré-processamento dos dados**"
      ],
      "metadata": {
        "id": "BKfUJq4mPECI"
      }
    },
    {
      "cell_type": "code",
      "source": [
        "import torchvision.transforms as T"
      ],
      "metadata": {
        "id": "J-cMTUghPDY9"
      },
      "execution_count": 7,
      "outputs": []
    },
    {
      "cell_type": "code",
      "source": [
        "prep_transform = T.Compose([T.ToTensor(),\n",
        "                            T.Normalize((0.4914, 0.4822, 0.4465),\n",
        "                                       (0.2470, 0.2435, 0.2616))])\n",
        "tensor_train = CIFAR10(DATA_DIR, train=True, download=False, transform = prep_transform)\n",
        "tensor_test = CIFAR10(DATA_DIR, train=False, download=False, transform = prep_transform)"
      ],
      "metadata": {
        "id": "R5dtrnpTP4BH"
      },
      "execution_count": 8,
      "outputs": []
    },
    {
      "cell_type": "code",
      "source": [
        "imgs = torch.stack([img_t for img_t, _ in tensor_train], dim=3)\n",
        "imgs.shape"
      ],
      "metadata": {
        "colab": {
          "base_uri": "https://localhost:8080/"
        },
        "id": "MWtoVBvBQrPA",
        "outputId": "21e7bd1b-6b9d-4948-d433-dcbf84fc5429"
      },
      "execution_count": 9,
      "outputs": [
        {
          "output_type": "execute_result",
          "data": {
            "text/plain": [
              "torch.Size([3, 32, 32, 50000])"
            ]
          },
          "metadata": {},
          "execution_count": 9
        }
      ]
    },
    {
      "cell_type": "code",
      "source": [
        "imgs.view(3, -1).mean(dim=1)"
      ],
      "metadata": {
        "colab": {
          "base_uri": "https://localhost:8080/"
        },
        "id": "8ZWkT_1vRm-j",
        "outputId": "f1b91d39-1276-47cf-ca19-d8e71c9c127b"
      },
      "execution_count": 10,
      "outputs": [
        {
          "output_type": "execute_result",
          "data": {
            "text/plain": [
              "tensor([-1.2762e-06, -1.7074e-04,  1.1819e-04])"
            ]
          },
          "metadata": {},
          "execution_count": 10
        }
      ]
    },
    {
      "cell_type": "code",
      "source": [
        "imgs.view(3, -1).std(dim=1)"
      ],
      "metadata": {
        "colab": {
          "base_uri": "https://localhost:8080/"
        },
        "id": "p42lRmW6Rsli",
        "outputId": "27ec3acf-86bd-4406-8dbb-8701824b92e3"
      },
      "execution_count": 11,
      "outputs": [
        {
          "output_type": "execute_result",
          "data": {
            "text/plain": [
              "tensor([1.0001, 0.9999, 1.0000])"
            ]
          },
          "metadata": {},
          "execution_count": 11
        }
      ]
    },
    {
      "cell_type": "code",
      "source": [
        "lookat_dataset(tensor_train, True)"
      ],
      "metadata": {
        "colab": {
          "base_uri": "https://localhost:8080/",
          "height": 551
        },
        "id": "PXW4NNJoTATV",
        "outputId": "dae32b17-ea08-4183-ece0-85ad45767ddb"
      },
      "execution_count": 12,
      "outputs": [
        {
          "output_type": "stream",
          "name": "stderr",
          "text": [
            "WARNING:matplotlib.image:Clipping input data to the valid range for imshow with RGB data ([0..1] for floats or [0..255] for integers).\n",
            "WARNING:matplotlib.image:Clipping input data to the valid range for imshow with RGB data ([0..1] for floats or [0..255] for integers).\n",
            "WARNING:matplotlib.image:Clipping input data to the valid range for imshow with RGB data ([0..1] for floats or [0..255] for integers).\n",
            "WARNING:matplotlib.image:Clipping input data to the valid range for imshow with RGB data ([0..1] for floats or [0..255] for integers).\n"
          ]
        },
        {
          "output_type": "display_data",
          "data": {
            "text/plain": [
              "<Figure size 576x576 with 4 Axes>"
            ],
            "image/png": "[encoded data removed]"
          },
          "metadata": {
            "needs_background": "light"
          }
        }
      ]
    },
    {
      "cell_type": "markdown",
      "source": [
        "**Criando dataloaders**"
      ],
      "metadata": {
        "id": "wvb1QARhUZzU"
      }
    },
    {
      "cell_type": "code",
      "source": [
        "from torch.utils.data import DataLoader"
      ],
      "metadata": {
        "id": "ScGknB-NUgF6"
      },
      "execution_count": 13,
      "outputs": []
    },
    {
      "cell_type": "code",
      "source": [
        "batch_size = 64\n",
        "train_loader = DataLoader(tensor_train, batch_size=batch_size, shuffle=True)\n",
        "test_loader = DataLoader(tensor_train, batch_size=batch_size, shuffle=True)"
      ],
      "metadata": {
        "id": "gG8kislDUY3x"
      },
      "execution_count": 14,
      "outputs": []
    },
    {
      "cell_type": "markdown",
      "source": [
        "**Construindo uma rede MLP**"
      ],
      "metadata": {
        "id": "2TGqgWxYVLmI"
      }
    },
    {
      "cell_type": "code",
      "source": [
        "from torch import nn"
      ],
      "metadata": {
        "id": "WhOuABAeVKl7"
      },
      "execution_count": 15,
      "outputs": []
    },
    {
      "cell_type": "code",
      "source": [
        "class MLPClassifier(nn.Module):\n",
        "  def __init__(self):\n",
        "    super().__init__()  \n",
        "    self.flatten = nn.Flatten()\n",
        "    self.layers = nn.Sequential(\n",
        "        nn.Linear(32*32*3, 256),\n",
        "        nn.ReLU(),\n",
        "        nn.Linear(256, 128),\n",
        "        nn.ReLU(),\n",
        "        nn.Linear(128,64),\n",
        "        nn.ReLU(),\n",
        "        nn.Linear(64,10)       \n",
        "    )\n",
        "  def forward(self, x):\n",
        "    v = self.flatten(x)\n",
        "    return self.layers(v)"
      ],
      "metadata": {
        "id": "haeXWFFfVR6L"
      },
      "execution_count": 16,
      "outputs": []
    },
    {
      "cell_type": "code",
      "source": [
        "device = \"cuda\" if torch.cuda.is_available() else \"cpu\"\n",
        "print(\"Rodando na\", device)"
      ],
      "metadata": {
        "colab": {
          "base_uri": "https://localhost:8080/"
        },
        "id": "VEmelNZAVEtz",
        "outputId": "f26c9712-c03f-404a-c7be-88cc12e887d6"
      },
      "execution_count": 18,
      "outputs": [
        {
          "output_type": "stream",
          "name": "stdout",
          "text": [
            "Rodando na cuda\n"
          ]
        }
      ]
    },
    {
      "cell_type": "code",
      "source": [
        "model = MLPClassifier().to(device)"
      ],
      "metadata": {
        "id": "L7PZEw20UNBs"
      },
      "execution_count": 19,
      "outputs": []
    },
    {
      "cell_type": "markdown",
      "source": [
        "**Escolhendo hiperparâmetros de otimização**"
      ],
      "metadata": {
        "id": "zfuTtw9fVoja"
      }
    },
    {
      "cell_type": "code",
      "source": [
        "optimizer = torch.optim.SGD(model.parameters(), lr=0.001)\n",
        "lossfunc = nn.CrossEntropyLoss()"
      ],
      "metadata": {
        "id": "a4LUB1aeVtQF"
      },
      "execution_count": 20,
      "outputs": []
    },
    {
      "cell_type": "code",
      "source": [
        "def train(model, dataloader, lossfunc, optimizer):\n",
        "  model.train()\n",
        "  cumulativeloss = 0.0\n",
        "  for imgs, labels in dataloader:\n",
        "    imgs, labels = imgs.to(device), labels.to(device)\n",
        "\n",
        "    pred = model(imgs)\n",
        "\n",
        "    loss = lossfunc(pred, labels)\n",
        "\n",
        "    #zera os gradientes acumulados\n",
        "    optimizer.zero_grad()\n",
        "    #computa os gradientes\n",
        "    loss.backward()\n",
        "    #anda, na direção que reduz o erro local\n",
        "    optimizer.step()\n",
        "    #loss é um tensor; item pra obter float\n",
        "    cumulativeloss+= loss.item()\n",
        "\n",
        "  return cumulativeloss / len(dataloader)\n",
        "\n",
        "def validate(model, dataloader, lossfunc):\n",
        "  model.eval()\n",
        "  cumulativeloss = 0.0\n",
        "  with torch.no_grad():\n",
        "    for imgs, labels in dataloader:\n",
        "      imgs, labels = imgs.to(device), labels.to(device)\n",
        "\n",
        "      pred = model(imgs)\n",
        "      loss = lossfunc(pred, labels)\n",
        "\n",
        "      cumulativeloss+= loss.item()\n",
        "\n",
        "  return cumulativeloss / len(dataloader)"
      ],
      "metadata": {
        "id": "eucCvwTUXyM0"
      },
      "execution_count": 22,
      "outputs": []
    },
    {
      "cell_type": "code",
      "source": [
        "epochs = 31\n",
        "train_losses = []\n",
        "test_losses = []\n",
        "for t in range(epochs):\n",
        "  train_loss = train(model, train_loader, lossfunc, optimizer)\n",
        "  train_losses.append(train_loss)\n",
        "  if t%10 == 0:\n",
        "    print(\"Train loss:\", train_loss)\n",
        "  test_loss = validate(model, test_loader, lossfunc)\n",
        "  test_losses.append(test_loss)"
      ],
      "metadata": {
        "colab": {
          "base_uri": "https://localhost:8080/"
        },
        "id": "2oSHEyqNY8Ay",
        "outputId": "64bc511d-3d1a-4cca-eae4-f69ed159418e"
      },
      "execution_count": 24,
      "outputs": [
        {
          "output_type": "stream",
          "name": "stdout",
          "text": [
            "Train loss: 2.2627752616887205\n",
            "Train loss: 1.8084801658035239\n",
            "Train loss: 1.624550805829675\n",
            "Train loss: 1.5047863305682112\n"
          ]
        }
      ]
    }
  ]
}